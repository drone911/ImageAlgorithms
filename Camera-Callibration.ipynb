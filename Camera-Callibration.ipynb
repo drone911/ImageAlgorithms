{
 "cells": [
  {
   "cell_type": "code",
   "execution_count": 20,
   "id": "85454401",
   "metadata": {},
   "outputs": [
    {
     "name": "stdout",
     "output_type": "stream",
     "text": [
      "Camera Center in World Coordinates: (-4.1453, -4.2807, 3.4260)\n"
     ]
    }
   ],
   "source": [
    "import numpy as np\n",
    "\n",
    "'''\n",
    "Projection matrix. \n",
    "\n",
    "The first three columns are image points corresponding to world points at infinity in the X, Y, and Z directions.\n",
    "The last columns is the image point corresponding to world origin.\n",
    "'''\n",
    "P = np.array([[5, 400, 500, 20],\n",
    "              [100, 300, 490, 20],\n",
    "              [1, 1, 1, 5]])\n",
    "\n",
    "# Compute the SVD to find the camera center C\n",
    "U, S, V = np.linalg.svd(P)\n",
    "\n",
    "# Take the last column of V which corresponds to the smallest eigen value, which is our camera center C\n",
    "C = V[-1]\n",
    "\n",
    "# Normalize the homogenous cooridinates\n",
    "C = C/C[-1]\n",
    "\n",
    "print(f\"Camera Center in World Coordinates: ({C[0]:.4f}, {C[1]:.4f}, {C[2]:.4f})\")"
   ]
  }
 ],
 "metadata": {
  "kernelspec": {
   "display_name": "Python 3 (ipykernel)",
   "language": "python",
   "name": "python3"
  },
  "language_info": {
   "codemirror_mode": {
    "name": "ipython",
    "version": 3
   },
   "file_extension": ".py",
   "mimetype": "text/x-python",
   "name": "python",
   "nbconvert_exporter": "python",
   "pygments_lexer": "ipython3",
   "version": "3.11.4"
  }
 },
 "nbformat": 4,
 "nbformat_minor": 5
}
